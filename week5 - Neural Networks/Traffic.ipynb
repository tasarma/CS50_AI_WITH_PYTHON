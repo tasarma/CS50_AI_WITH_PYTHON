{
  "nbformat": 4,
  "nbformat_minor": 0,
  "metadata": {
    "colab": {
      "name": "Traffic.ipynb",
      "provenance": [],
      "collapsed_sections": []
    },
    "kernelspec": {
      "name": "python3",
      "display_name": "Python 3"
    },
    "language_info": {
      "name": "python"
    },
    "accelerator": "TPU"
  },
  "cells": [
    {
      "cell_type": "markdown",
      "source": [
        "#**Important**\n",
        "This project is using google colab to get better performance.\n",
        "\n",
        "All information taken from here <a href='https://cs50.harvard.edu/ai/2020/projects/5/traffic/'> CS50 AI </a>. \n"
      ],
      "metadata": {
        "id": "J6niL14us2ex"
      }
    },
    {
      "cell_type": "markdown",
      "source": [
        "#**Background**\n",
        "\n",
        "As research continues in the development of self-driving cars, one of the key challenges is computer vision, allowing these cars to develop an understanding of their environment from digital images. In particular, this involves the ability to recognize and distinguish road signs – stop signs, speed limit signs, yield signs, and more.\n",
        "\n",
        "In this project, you’ll use TensorFlow to build a neural network to classify road signs based on an image of those signs. To do so, you’ll need a labeled dataset: a collection of images that have already been categorized by the road sign represented in them.\n",
        "\n",
        "For more information about the project <a href='https://cs50.harvard.edu/ai/2020/projects/5/traffic/'> Traffic </a>. "
      ],
      "metadata": {
        "id": "ZHsxXNjxpM3K"
      }
    },
    {
      "cell_type": "markdown",
      "source": [
        "run code below to install this project’s dependencies: **opencv-python** for image processing, **scikit-learn** for ML-related functions, and **tensorflow** for neural networks."
      ],
      "metadata": {
        "id": "cNwdzgjtTLi5"
      }
    },
    {
      "cell_type": "markdown",
      "source": [
        "#**Getting Started**"
      ],
      "metadata": {
        "id": "9bDZXZS4q8Fy"
      }
    },
    {
      "cell_type": "code",
      "execution_count": 2,
      "metadata": {
        "id": "Ub_hQmLTSEBQ",
        "colab": {
          "base_uri": "https://localhost:8080/"
        },
        "outputId": "fb8a53c0-9194-4c21-abe2-3ad47fea8d8d"
      },
      "outputs": [
        {
          "output_type": "stream",
          "name": "stdout",
          "text": [
            "Requirement already satisfied: wget in /usr/local/lib/python3.7/dist-packages (3.2)\n",
            "Requirement already satisfied: tensorflow in /usr/local/lib/python3.7/dist-packages (2.7.0)\n",
            "Requirement already satisfied: tensorflow-estimator<2.8,~=2.7.0rc0 in /usr/local/lib/python3.7/dist-packages (from tensorflow) (2.7.0)\n",
            "Requirement already satisfied: tensorboard~=2.6 in /usr/local/lib/python3.7/dist-packages (from tensorflow) (2.7.0)\n",
            "Requirement already satisfied: grpcio<2.0,>=1.24.3 in /usr/local/lib/python3.7/dist-packages (from tensorflow) (1.42.0)\n",
            "Requirement already satisfied: libclang>=9.0.1 in /usr/local/lib/python3.7/dist-packages (from tensorflow) (12.0.0)\n",
            "Requirement already satisfied: termcolor>=1.1.0 in /usr/local/lib/python3.7/dist-packages (from tensorflow) (1.1.0)\n",
            "Requirement already satisfied: six>=1.12.0 in /usr/local/lib/python3.7/dist-packages (from tensorflow) (1.15.0)\n",
            "Requirement already satisfied: h5py>=2.9.0 in /usr/local/lib/python3.7/dist-packages (from tensorflow) (3.1.0)\n",
            "Requirement already satisfied: absl-py>=0.4.0 in /usr/local/lib/python3.7/dist-packages (from tensorflow) (0.12.0)\n",
            "Requirement already satisfied: protobuf>=3.9.2 in /usr/local/lib/python3.7/dist-packages (from tensorflow) (3.17.3)\n",
            "Requirement already satisfied: astunparse>=1.6.0 in /usr/local/lib/python3.7/dist-packages (from tensorflow) (1.6.3)\n",
            "Requirement already satisfied: keras<2.8,>=2.7.0rc0 in /usr/local/lib/python3.7/dist-packages (from tensorflow) (2.7.0)\n",
            "Requirement already satisfied: flatbuffers<3.0,>=1.12 in /usr/local/lib/python3.7/dist-packages (from tensorflow) (2.0)\n",
            "Requirement already satisfied: opt-einsum>=2.3.2 in /usr/local/lib/python3.7/dist-packages (from tensorflow) (3.3.0)\n",
            "Requirement already satisfied: gast<0.5.0,>=0.2.1 in /usr/local/lib/python3.7/dist-packages (from tensorflow) (0.4.0)\n",
            "Requirement already satisfied: tensorflow-io-gcs-filesystem>=0.21.0 in /usr/local/lib/python3.7/dist-packages (from tensorflow) (0.22.0)\n",
            "Requirement already satisfied: google-pasta>=0.1.1 in /usr/local/lib/python3.7/dist-packages (from tensorflow) (0.2.0)\n",
            "Requirement already satisfied: wheel<1.0,>=0.32.0 in /usr/local/lib/python3.7/dist-packages (from tensorflow) (0.37.0)\n",
            "Requirement already satisfied: numpy>=1.14.5 in /usr/local/lib/python3.7/dist-packages (from tensorflow) (1.19.5)\n",
            "Requirement already satisfied: keras-preprocessing>=1.1.1 in /usr/local/lib/python3.7/dist-packages (from tensorflow) (1.1.2)\n",
            "Requirement already satisfied: typing-extensions>=3.6.6 in /usr/local/lib/python3.7/dist-packages (from tensorflow) (3.10.0.2)\n",
            "Requirement already satisfied: wrapt>=1.11.0 in /usr/local/lib/python3.7/dist-packages (from tensorflow) (1.13.3)\n",
            "Requirement already satisfied: cached-property in /usr/local/lib/python3.7/dist-packages (from h5py>=2.9.0->tensorflow) (1.5.2)\n",
            "Requirement already satisfied: requests<3,>=2.21.0 in /usr/local/lib/python3.7/dist-packages (from tensorboard~=2.6->tensorflow) (2.23.0)\n",
            "Requirement already satisfied: tensorboard-data-server<0.7.0,>=0.6.0 in /usr/local/lib/python3.7/dist-packages (from tensorboard~=2.6->tensorflow) (0.6.1)\n",
            "Requirement already satisfied: tensorboard-plugin-wit>=1.6.0 in /usr/local/lib/python3.7/dist-packages (from tensorboard~=2.6->tensorflow) (1.8.0)\n",
            "Requirement already satisfied: google-auth-oauthlib<0.5,>=0.4.1 in /usr/local/lib/python3.7/dist-packages (from tensorboard~=2.6->tensorflow) (0.4.6)\n",
            "Requirement already satisfied: google-auth<3,>=1.6.3 in /usr/local/lib/python3.7/dist-packages (from tensorboard~=2.6->tensorflow) (1.35.0)\n",
            "Requirement already satisfied: werkzeug>=0.11.15 in /usr/local/lib/python3.7/dist-packages (from tensorboard~=2.6->tensorflow) (1.0.1)\n",
            "Requirement already satisfied: setuptools>=41.0.0 in /usr/local/lib/python3.7/dist-packages (from tensorboard~=2.6->tensorflow) (57.4.0)\n",
            "Requirement already satisfied: markdown>=2.6.8 in /usr/local/lib/python3.7/dist-packages (from tensorboard~=2.6->tensorflow) (3.3.6)\n",
            "Requirement already satisfied: pyasn1-modules>=0.2.1 in /usr/local/lib/python3.7/dist-packages (from google-auth<3,>=1.6.3->tensorboard~=2.6->tensorflow) (0.2.8)\n",
            "Requirement already satisfied: rsa<5,>=3.1.4 in /usr/local/lib/python3.7/dist-packages (from google-auth<3,>=1.6.3->tensorboard~=2.6->tensorflow) (4.8)\n",
            "Requirement already satisfied: cachetools<5.0,>=2.0.0 in /usr/local/lib/python3.7/dist-packages (from google-auth<3,>=1.6.3->tensorboard~=2.6->tensorflow) (4.2.4)\n",
            "Requirement already satisfied: requests-oauthlib>=0.7.0 in /usr/local/lib/python3.7/dist-packages (from google-auth-oauthlib<0.5,>=0.4.1->tensorboard~=2.6->tensorflow) (1.3.0)\n",
            "Requirement already satisfied: importlib-metadata>=4.4 in /usr/local/lib/python3.7/dist-packages (from markdown>=2.6.8->tensorboard~=2.6->tensorflow) (4.8.2)\n",
            "Requirement already satisfied: zipp>=0.5 in /usr/local/lib/python3.7/dist-packages (from importlib-metadata>=4.4->markdown>=2.6.8->tensorboard~=2.6->tensorflow) (3.6.0)\n",
            "Requirement already satisfied: pyasn1<0.5.0,>=0.4.6 in /usr/local/lib/python3.7/dist-packages (from pyasn1-modules>=0.2.1->google-auth<3,>=1.6.3->tensorboard~=2.6->tensorflow) (0.4.8)\n",
            "Requirement already satisfied: urllib3!=1.25.0,!=1.25.1,<1.26,>=1.21.1 in /usr/local/lib/python3.7/dist-packages (from requests<3,>=2.21.0->tensorboard~=2.6->tensorflow) (1.24.3)\n",
            "Requirement already satisfied: certifi>=2017.4.17 in /usr/local/lib/python3.7/dist-packages (from requests<3,>=2.21.0->tensorboard~=2.6->tensorflow) (2021.10.8)\n",
            "Requirement already satisfied: chardet<4,>=3.0.2 in /usr/local/lib/python3.7/dist-packages (from requests<3,>=2.21.0->tensorboard~=2.6->tensorflow) (3.0.4)\n",
            "Requirement already satisfied: idna<3,>=2.5 in /usr/local/lib/python3.7/dist-packages (from requests<3,>=2.21.0->tensorboard~=2.6->tensorflow) (2.10)\n",
            "Requirement already satisfied: oauthlib>=3.0.0 in /usr/local/lib/python3.7/dist-packages (from requests-oauthlib>=0.7.0->google-auth-oauthlib<0.5,>=0.4.1->tensorboard~=2.6->tensorflow) (3.1.1)\n"
          ]
        }
      ],
      "source": [
        "!pip install wget\n",
        "!pip install tensorflow"
      ]
    },
    {
      "cell_type": "code",
      "source": [
        "import tensorflow as tf\n",
        "import cv2 as cv\n",
        "import numpy as np\n",
        "import os\n",
        "import sys\n",
        "import wget\n",
        "import shutil\n",
        "\n",
        "from sklearn.model_selection import train_test_split\n",
        "import matplotlib.pyplot as plt"
      ],
      "metadata": {
        "id": "gk350svsXLDZ"
      },
      "execution_count": 15,
      "outputs": []
    },
    {
      "cell_type": "markdown",
      "source": [
        "**Download the data set for this project and unzip it**\n",
        "\n",
        "\n"
      ],
      "metadata": {
        "id": "QdLPeBcbgRb0"
      }
    },
    {
      "cell_type": "code",
      "source": [
        "url = 'https://cdn.cs50.net/ai/2020/x/projects/5/gtsrb.zip'\n",
        "wget.download(url)"
      ],
      "metadata": {
        "colab": {
          "base_uri": "https://localhost:8080/",
          "height": 35
        },
        "id": "YNxZjO14cxDO",
        "outputId": "326cf580-73fd-4ba3-cf1a-3bd861be9da7"
      },
      "execution_count": 4,
      "outputs": [
        {
          "output_type": "execute_result",
          "data": {
            "application/vnd.google.colaboratory.intrinsic+json": {
              "type": "string"
            },
            "text/plain": [
              "'gtsrb (1).zip'"
            ]
          },
          "metadata": {},
          "execution_count": 4
        }
      ]
    },
    {
      "cell_type": "code",
      "source": [
        "shutil.unpack_archive('./gtsrb.zip', './')"
      ],
      "metadata": {
        "id": "UjtL4wx_damI"
      },
      "execution_count": 5,
      "outputs": []
    },
    {
      "cell_type": "markdown",
      "source": [
        "#**Understanding**\n",
        "First, take a look at the data set by opening the gtsrb directory. You’ll notice 43 subdirectories in this dataset, numbered 0 through 42. Each numbered subdirectory represents a different category (a different type of road sign). Within each traffic sign’s directory is a collection of images of that type of traffic sign.\n",
        "\n",
        "Next, take a look at traffic.py. In the main function, we accept as command-line arguments a directory containing the data and (optionally) a filename to which to save the trained model. The data and corresponding labels are then loaded from the data directory (via the load_data function) and split into training and testing sets. After that, the get_model function is called to obtain a compiled neural network that is then fitted on the training data. The model is then evaluated on the testing data. Finally, if a model filename was provided, the trained model is saved to disk."
      ],
      "metadata": {
        "id": "YrauE7ozqG5P"
      }
    },
    {
      "cell_type": "markdown",
      "source": [
        "**Constant variables**"
      ],
      "metadata": {
        "id": "6DiTmCfguGH1"
      }
    },
    {
      "cell_type": "code",
      "source": [
        "EPOCHS = 10\n",
        "IMG_WIDTH = 30\n",
        "IMG_HEIGHT = 30\n",
        "NUM_CATEGORIES = 43\n",
        "TEST_SIZE = 0.4"
      ],
      "metadata": {
        "id": "64YJPyuWtzUm"
      },
      "execution_count": 16,
      "outputs": []
    },
    {
      "cell_type": "code",
      "source": [
        "def load_data(data_dir):\n",
        "    \"\"\"\n",
        "    Load image data from directory `data_dir`.\n",
        "\n",
        "    Assume `data_dir` has one directory named after each category, numbered\n",
        "    0 through NUM_CATEGORIES - 1. Inside each category directory will be some\n",
        "    number of image files.\n",
        "\n",
        "    Return tuple `(images, labels)`. `images` should be a list of all\n",
        "    of the images in the data directory, where each image is formatted as a\n",
        "    numpy ndarray with dimensions IMG_WIDTH x IMG_HEIGHT x 3. `labels` should\n",
        "    be a list of integer labels, representing the categories for each of the\n",
        "    corresponding `images`.\n",
        "    \"\"\"\n",
        "    images = []\n",
        "    labels = []\n",
        "\n",
        "    # Loop on all files with directories\n",
        "    for root, subdir, files in os.walk(data_dir):\n",
        "        \n",
        "        # Loop on all images in directory\n",
        "        for image in files:\n",
        "            img = cv.imread(os.path.join(root, image))\n",
        "            img = cv.resize(img, (IMG_WIDTH, IMG_HEIGHT))        \n",
        "            images.append(img)\n",
        "\n",
        "            # Get the directory the image is in\n",
        "            labels.append(int(os.path.basename(root)))\n",
        "    \n",
        "    return images, labels"
      ],
      "metadata": {
        "id": "ziWzfLDbuS9g"
      },
      "execution_count": 17,
      "outputs": []
    },
    {
      "cell_type": "code",
      "source": [
        "# Get image arrays and labels for all image files\n",
        "images, labels = load_data('./gtsrb')"
      ],
      "metadata": {
        "id": "qO_55-aPgqot"
      },
      "execution_count": 18,
      "outputs": []
    },
    {
      "cell_type": "code",
      "source": [
        "# Example of a picture\n",
        "index = 1\n",
        "#print(images.shape)\n",
        "plt.imshow(images[index])\n"
      ],
      "metadata": {
        "colab": {
          "base_uri": "https://localhost:8080/",
          "height": 283
        },
        "id": "W29W3zJv0E0G",
        "outputId": "e6a056d1-a375-44f8-b919-fa6fb366806c"
      },
      "execution_count": 19,
      "outputs": [
        {
          "output_type": "execute_result",
          "data": {
            "text/plain": [
              "<matplotlib.image.AxesImage at 0x7f02df08db10>"
            ]
          },
          "metadata": {},
          "execution_count": 19
        },
        {
          "output_type": "display_data",
          "data": {
            "image/png": "[encoded data removed]",
            "text/plain": [
              "<Figure size 432x288 with 1 Axes>"
            ]
          },
          "metadata": {
            "needs_background": "light"
          }
        }
      ]
    },
    {
      "cell_type": "code",
      "source": [
        "# Split data into training and testing sets\n",
        "labels = tf.keras.utils.to_categorical(labels)\n",
        "x_train, x_test, y_train, y_test = train_test_split(\n",
        "    np.array(images), np.array(labels), test_size=TEST_SIZE\n",
        ")\n"
      ],
      "metadata": {
        "id": "_poJBiy7wSc9"
      },
      "execution_count": 20,
      "outputs": []
    },
    {
      "cell_type": "code",
      "source": [
        "m_train = x_train.shape[0] # number of training examples\n",
        "m_test = x_test.shape[0]   # number of test examples\n",
        "num_px = x_train.shape[1]  # = height = width of a training image\n",
        "\n",
        "print (\"Number of training examples: m_train = \" + str(m_train))\n",
        "print (\"Number of testing examples: m_test = \" + str(m_test))\n",
        "print (\"Height/Width of each image: num_px = \" + str(num_px))\n",
        "print (\"Each image is of size: (\" + str(num_px) + \", \" + str(num_px) + \", 3)\")\n",
        "print (\"x_train shape: \" + str(x_train.shape))\n",
        "print (\"y_train shape: \" + str(y_train.shape))\n",
        "print (\"x_test shape: \" + str(x_test.shape))\n",
        "print (\"y_test shape: \" + str(y_test.shape))"
      ],
      "metadata": {
        "colab": {
          "base_uri": "https://localhost:8080/"
        },
        "id": "olaUT5uk3QM1",
        "outputId": "cd78b9d0-5141-4f29-cd0e-ff437273b904"
      },
      "execution_count": 11,
      "outputs": [
        {
          "output_type": "stream",
          "name": "stdout",
          "text": [
            "Number of training examples: m_train = 15984\n",
            "Number of testing examples: m_test = 10656\n",
            "Height/Width of each image: num_px = 30\n",
            "Each image is of size: (30, 30, 3)\n",
            "x_train shape: (15984, 30, 30, 3)\n",
            "y_train shape: (15984, 43)\n",
            "x_test shape: (10656, 30, 30, 3)\n",
            "y_test shape: (10656, 43)\n"
          ]
        }
      ]
    },
    {
      "cell_type": "code",
      "source": [
        "def get_model():\n",
        "    \"\"\"\n",
        "    Returns a compiled convolutional neural network model. Assume that the\n",
        "    `input_shape` of the first layer is `(IMG_WIDTH, IMG_HEIGHT, 3)`.\n",
        "    The output layer should have `NUM_CATEGORIES` units, one for each category.\n",
        "    \"\"\"\n",
        "    \n",
        "    # Create a neural network\n",
        "    model = tf.keras.models.Sequential([\n",
        "\n",
        "    # Convolutional layer. Learn 32 filters using a 3x3 kernel\n",
        "    tf.keras.layers.Conv2D(\n",
        "        8, (5, 5), activation=\"relu\", input_shape=(IMG_WIDTH, IMG_HEIGHT, 3)\n",
        "    ),\n",
        "\n",
        "    # Max-pooling layer, using 2x2 pool size\n",
        "    tf.keras.layers.MaxPooling2D(pool_size=(2, 2)),\n",
        "\n",
        "    # Second convolutional layer\n",
        "    tf.keras.layers.Conv2D(\n",
        "        32, (3, 3), activation=\"relu\", input_shape=(IMG_WIDTH, IMG_HEIGHT, 3)\n",
        "    ),\n",
        "\n",
        "    # Max-pooling layer, using 2x2 pool size\n",
        "    tf.keras.layers.MaxPooling2D(pool_size=(2, 2)),\n",
        "\n",
        "\n",
        "\n",
        "    # Second convolutional layer\n",
        "    tf.keras.layers.Conv2D(\n",
        "        32, (3, 3), activation=\"relu\", input_shape=(IMG_WIDTH, IMG_HEIGHT, 3)\n",
        "    ),\n",
        "\n",
        "\n",
        "\n",
        "\n",
        "\n",
        "    # Flatten units\n",
        "    tf.keras.layers.Flatten(),\n",
        "\n",
        "    # Add a hidden layer with dropout\n",
        "    tf.keras.layers.Dense(128, activation=\"relu\"),\n",
        "    tf.keras.layers.Dropout(0.5),\n",
        "\n",
        "    # Add an output layer with output units for all 10 digits\n",
        "    tf.keras.layers.Dense(NUM_CATEGORIES, activation=\"softmax\")\n",
        "\n",
        "    ])\n",
        "\n",
        "    # Summary the model\n",
        "    #model.summary()\n",
        "\n",
        "    # Train neural network\n",
        "    model.compile(\n",
        "        optimizer = \"adam\",\n",
        "        loss = \"categorical_crossentropy\",\n",
        "        metrics = [\"accuracy\"]\n",
        "    )\n",
        "\n",
        "    return model"
      ],
      "metadata": {
        "id": "YuKE5uAgujqS"
      },
      "execution_count": 34,
      "outputs": []
    },
    {
      "cell_type": "code",
      "source": [
        "# Get a compiled neural network\n",
        "model = get_model()\n"
      ],
      "metadata": {
        "id": "hrXRy_U-zdKY"
      },
      "execution_count": 35,
      "outputs": []
    },
    {
      "cell_type": "code",
      "source": [
        "# Fit model on training data\n",
        "model.fit(x_train, y_train, epochs=EPOCHS)"
      ],
      "metadata": {
        "id": "BtORNdh0zgfD",
        "colab": {
          "base_uri": "https://localhost:8080/"
        },
        "outputId": "9343f820-552d-4669-a9c9-a7736f868899"
      },
      "execution_count": 36,
      "outputs": [
        {
          "output_type": "stream",
          "name": "stdout",
          "text": [
            "Epoch 1/10\n",
            "500/500 [==============================] - 12s 22ms/step - loss: 3.0814 - accuracy: 0.3070\n",
            "Epoch 2/10\n",
            "500/500 [==============================] - 11s 22ms/step - loss: 1.2726 - accuracy: 0.6465\n",
            "Epoch 3/10\n",
            "500/500 [==============================] - 11s 22ms/step - loss: 0.7756 - accuracy: 0.7812\n",
            "Epoch 4/10\n",
            "500/500 [==============================] - 12s 23ms/step - loss: 0.5176 - accuracy: 0.8525\n",
            "Epoch 5/10\n",
            "500/500 [==============================] - 11s 22ms/step - loss: 0.4179 - accuracy: 0.8813\n",
            "Epoch 6/10\n",
            "500/500 [==============================] - 11s 22ms/step - loss: 0.3382 - accuracy: 0.9012\n",
            "Epoch 7/10\n",
            "500/500 [==============================] - 11s 23ms/step - loss: 0.2898 - accuracy: 0.9150\n",
            "Epoch 8/10\n",
            "500/500 [==============================] - 11s 23ms/step - loss: 0.2426 - accuracy: 0.9284\n",
            "Epoch 9/10\n",
            "500/500 [==============================] - 11s 22ms/step - loss: 0.2387 - accuracy: 0.9338\n",
            "Epoch 10/10\n",
            "500/500 [==============================] - 12s 23ms/step - loss: 0.2069 - accuracy: 0.9398\n"
          ]
        },
        {
          "output_type": "execute_result",
          "data": {
            "text/plain": [
              "<keras.callbacks.History at 0x7f02d3895f10>"
            ]
          },
          "metadata": {},
          "execution_count": 36
        }
      ]
    },
    {
      "cell_type": "code",
      "source": [
        "# Evaluate neural network performance\n",
        "model.evaluate(x_test,  y_test, verbose=2)\n"
      ],
      "metadata": {
        "id": "0Ipw7U8mzih0",
        "colab": {
          "base_uri": "https://localhost:8080/"
        },
        "outputId": "5a9b0e56-24ac-4aee-ebc5-aaaebcdb006f"
      },
      "execution_count": 37,
      "outputs": [
        {
          "output_type": "stream",
          "name": "stdout",
          "text": [
            "333/333 - 3s - loss: 0.2007 - accuracy: 0.9479 - 3s/epoch - 8ms/step\n"
          ]
        },
        {
          "output_type": "execute_result",
          "data": {
            "text/plain": [
              "[0.20073269307613373, 0.9479166865348816]"
            ]
          },
          "metadata": {},
          "execution_count": 37
        }
      ]
    },
    {
      "cell_type": "code",
      "source": [
        "# Save model to file\n",
        "filename = 'traffic'\n",
        "model.save(filename)"
      ],
      "metadata": {
        "id": "H9WQ7-cfzmxb"
      },
      "execution_count": null,
      "outputs": []
    }
  ]
}